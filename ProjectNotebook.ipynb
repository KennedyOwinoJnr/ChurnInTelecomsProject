{
 "cells": [
  {
   "cell_type": "markdown",
   "metadata": {},
   "source": [
    "# CUSTOMER CHURN IN TELECOMUNICATION"
   ]
  },
  {
   "cell_type": "markdown",
   "metadata": {},
   "source": [
    "<img src=\"https://media.licdn.com/dms/image/C5612AQH0DqxxGFkCvQ/article-cover_image-shrink_720_1280/0/1626825664542?e=1715212800&v=beta&t=-3wL6onvoFSlGgxRkn8ZH5rXP5_e-Jb5HQR1rjsk1QA\" alt=\"churn\" width=\"1000\" height=\"300\">\n"
   ]
  }
 ],
 "metadata": {
  "language_info": {
   "name": "python"
  }
 },
 "nbformat": 4,
 "nbformat_minor": 2
}
